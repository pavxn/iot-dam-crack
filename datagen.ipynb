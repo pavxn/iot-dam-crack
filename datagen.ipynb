{
 "cells": [
  {
   "cell_type": "code",
   "execution_count": 2,
   "metadata": {},
   "outputs": [],
   "source": [
    "import numpy as np\n",
    "import sklearn as sk\n",
    "import pandas as pd"
   ]
  },
  {
   "cell_type": "code",
   "execution_count": 136,
   "metadata": {},
   "outputs": [
    {
     "name": "stdout",
     "output_type": "stream",
     "text": [
      "151 226 200 123\n"
     ]
    }
   ],
   "source": [
    "def gen(z):\n",
    "    val = np.random.rand() * 3\n",
    "    while val > z:\n",
    "        val = np.random.rand() * 3\n",
    "\n",
    "    return val\n",
    "\n",
    "z2 = np.random.rand(700) * 3\n",
    "z1, z3 = [], []\n",
    "for i in z2:\n",
    "    z1.append(gen(i))\n",
    "    z3.append(gen(i))\n",
    "\n",
    "pred = list()\n",
    "def score(z1, z2, z3):\n",
    "    val = .25 * (z1+z3) + .5 * z2\n",
    "    score = 'high' if val > 1.7 else 'medium' if val > 1 else 'low' if val > 0.4 else 'none'\n",
    "    return score\n",
    "\n",
    "\n",
    "    \n",
    "for i in range(700):\n",
    "    #print(z1[i], z2[i], z3[i])\n",
    "    # val = np.array(z[i])\n",
    "    pred.append(score(z1[i], z2[i], z3[i]))\n",
    "\n",
    "print(pred.count('high'), pred.count('medium'), pred.count('low'), pred.count('none'))\n",
    "df = pd.DataFrame(zip(z1, z2, z3, pred), columns=['z_left', 'z_mid', 'z_right', 'pred'])"
   ]
  },
  {
   "cell_type": "code",
   "execution_count": 137,
   "metadata": {},
   "outputs": [
    {
     "data": {
      "text/html": [
       "<div>\n",
       "<style scoped>\n",
       "    .dataframe tbody tr th:only-of-type {\n",
       "        vertical-align: middle;\n",
       "    }\n",
       "\n",
       "    .dataframe tbody tr th {\n",
       "        vertical-align: top;\n",
       "    }\n",
       "\n",
       "    .dataframe thead th {\n",
       "        text-align: right;\n",
       "    }\n",
       "</style>\n",
       "<table border=\"1\" class=\"dataframe\">\n",
       "  <thead>\n",
       "    <tr style=\"text-align: right;\">\n",
       "      <th></th>\n",
       "      <th>z_left</th>\n",
       "      <th>z_mid</th>\n",
       "      <th>z_right</th>\n",
       "      <th>pred</th>\n",
       "    </tr>\n",
       "  </thead>\n",
       "  <tbody>\n",
       "    <tr>\n",
       "      <th>0</th>\n",
       "      <td>0.153198</td>\n",
       "      <td>1.066865</td>\n",
       "      <td>0.789860</td>\n",
       "      <td>low</td>\n",
       "    </tr>\n",
       "    <tr>\n",
       "      <th>1</th>\n",
       "      <td>0.797902</td>\n",
       "      <td>2.466792</td>\n",
       "      <td>2.351615</td>\n",
       "      <td>high</td>\n",
       "    </tr>\n",
       "    <tr>\n",
       "      <th>2</th>\n",
       "      <td>0.339376</td>\n",
       "      <td>0.917974</td>\n",
       "      <td>0.706319</td>\n",
       "      <td>low</td>\n",
       "    </tr>\n",
       "    <tr>\n",
       "      <th>3</th>\n",
       "      <td>0.530950</td>\n",
       "      <td>0.619202</td>\n",
       "      <td>0.389282</td>\n",
       "      <td>low</td>\n",
       "    </tr>\n",
       "    <tr>\n",
       "      <th>4</th>\n",
       "      <td>1.391154</td>\n",
       "      <td>2.672969</td>\n",
       "      <td>1.392692</td>\n",
       "      <td>high</td>\n",
       "    </tr>\n",
       "    <tr>\n",
       "      <th>...</th>\n",
       "      <td>...</td>\n",
       "      <td>...</td>\n",
       "      <td>...</td>\n",
       "      <td>...</td>\n",
       "    </tr>\n",
       "    <tr>\n",
       "      <th>695</th>\n",
       "      <td>0.991691</td>\n",
       "      <td>1.127974</td>\n",
       "      <td>0.754374</td>\n",
       "      <td>medium</td>\n",
       "    </tr>\n",
       "    <tr>\n",
       "      <th>696</th>\n",
       "      <td>0.110702</td>\n",
       "      <td>0.227491</td>\n",
       "      <td>0.064997</td>\n",
       "      <td>none</td>\n",
       "    </tr>\n",
       "    <tr>\n",
       "      <th>697</th>\n",
       "      <td>0.063639</td>\n",
       "      <td>0.095740</td>\n",
       "      <td>0.001256</td>\n",
       "      <td>none</td>\n",
       "    </tr>\n",
       "    <tr>\n",
       "      <th>698</th>\n",
       "      <td>0.002720</td>\n",
       "      <td>0.032332</td>\n",
       "      <td>0.009333</td>\n",
       "      <td>none</td>\n",
       "    </tr>\n",
       "    <tr>\n",
       "      <th>699</th>\n",
       "      <td>2.428812</td>\n",
       "      <td>2.657946</td>\n",
       "      <td>0.421717</td>\n",
       "      <td>high</td>\n",
       "    </tr>\n",
       "  </tbody>\n",
       "</table>\n",
       "<p>700 rows × 4 columns</p>\n",
       "</div>"
      ],
      "text/plain": [
       "       z_left     z_mid   z_right    pred\n",
       "0    0.153198  1.066865  0.789860     low\n",
       "1    0.797902  2.466792  2.351615    high\n",
       "2    0.339376  0.917974  0.706319     low\n",
       "3    0.530950  0.619202  0.389282     low\n",
       "4    1.391154  2.672969  1.392692    high\n",
       "..        ...       ...       ...     ...\n",
       "695  0.991691  1.127974  0.754374  medium\n",
       "696  0.110702  0.227491  0.064997    none\n",
       "697  0.063639  0.095740  0.001256    none\n",
       "698  0.002720  0.032332  0.009333    none\n",
       "699  2.428812  2.657946  0.421717    high\n",
       "\n",
       "[700 rows x 4 columns]"
      ]
     },
     "execution_count": 137,
     "metadata": {},
     "output_type": "execute_result"
    }
   ],
   "source": [
    "df"
   ]
  },
  {
   "cell_type": "code",
   "execution_count": 139,
   "metadata": {},
   "outputs": [],
   "source": [
    "df.to_csv('~/Desktop/Prog/IOT/dat.csv', index=False)"
   ]
  },
  {
   "cell_type": "code",
   "execution_count": null,
   "metadata": {},
   "outputs": [],
   "source": []
  }
 ],
 "metadata": {
  "kernelspec": {
   "display_name": "Python 3",
   "language": "python",
   "name": "python3"
  },
  "language_info": {
   "codemirror_mode": {
    "name": "ipython",
    "version": 3
   },
   "file_extension": ".py",
   "mimetype": "text/x-python",
   "name": "python",
   "nbconvert_exporter": "python",
   "pygments_lexer": "ipython3",
   "version": "3.10.6"
  },
  "orig_nbformat": 4
 },
 "nbformat": 4,
 "nbformat_minor": 2
}
